{
  "nbformat": 4,
  "nbformat_minor": 0,
  "metadata": {
    "colab": {
      "provenance": []
    },
    "kernelspec": {
      "name": "python3",
      "display_name": "Python 3"
    },
    "language_info": {
      "name": "python"
    }
  },
  "cells": [
    {
      "cell_type": "code",
      "execution_count": 11,
      "metadata": {
        "colab": {
          "base_uri": "https://localhost:8080/"
        },
        "id": "oOAZSo_iZZIm",
        "outputId": "2e5181d2-f85e-4ce7-be2b-0fa0ac5024b4"
      },
      "outputs": [
        {
          "output_type": "stream",
          "name": "stdout",
          "text": [
            "python\n",
            "ntyp\n"
          ]
        }
      ],
      "source": [
        "s=input()\n",
        "l=list(s)\n",
        "# print(l)\n",
        "l.remove('o');\n",
        "l.remove('h');\n",
        "l=l[::-1]\n",
        "# print(l)\n",
        "a=''\n",
        "for i in l:\n",
        "    a=a+i\n",
        "print(a)"
      ]
    },
    {
      "cell_type": "code",
      "source": [
        "a=int(input())\n",
        "b=int(input())\n",
        "\n",
        "print(a,b)\n",
        "print(a*b)\n",
        "print(a+b)\n",
        "print(a-b)\n",
        "print(a%b)"
      ],
      "metadata": {
        "colab": {
          "base_uri": "https://localhost:8080/"
        },
        "id": "PpbljgYgZigI",
        "outputId": "3db1d93a-51ef-4f3b-ba65-32d8a351e259"
      },
      "execution_count": 4,
      "outputs": [
        {
          "output_type": "stream",
          "name": "stdout",
          "text": [
            "1\n",
            "2\n",
            "1 2\n",
            "2\n",
            "3\n",
            "-1\n",
            "1\n"
          ]
        }
      ]
    },
    {
      "cell_type": "code",
      "source": [
        "s=input()\n",
        "print(s.replace('python','pythons'))"
      ],
      "metadata": {
        "colab": {
          "base_uri": "https://localhost:8080/"
        },
        "id": "2ZMBspERZsHs",
        "outputId": "7e386ab0-e52b-4a88-f404-46bfb36e364d"
      },
      "execution_count": 9,
      "outputs": [
        {
          "output_type": "stream",
          "name": "stdout",
          "text": [
            "I am python and I know python\n",
            "I am pythons and I know pythons\n"
          ]
        }
      ]
    },
    {
      "cell_type": "code",
      "source": [
        "x=int(input(\"enter a value between 1 and 100: \"))\n",
        "if(x>90):\n",
        "    print(\"your grade is A\")\n",
        "elif(x<=90 and x>80):\n",
        "    print(\"your grade is B\")\n",
        "elif(x<=80 and x>70):\n",
        "    print(\"your grade is C\")\n",
        "elif(x<=70 and x>60):\n",
        "    print(\"your grade is D\")\n",
        "else:\n",
        "    print(\"your grade is F\")"
      ],
      "metadata": {
        "colab": {
          "base_uri": "https://localhost:8080/"
        },
        "id": "j1R08DpybC7I",
        "outputId": "adc6a421-25d4-44c1-b415-dc4d26b25135"
      },
      "execution_count": 10,
      "outputs": [
        {
          "output_type": "stream",
          "name": "stdout",
          "text": [
            "enter a value between 1 and 100: 67\n",
            "your grade is D\n"
          ]
        }
      ]
    }
  ]
}